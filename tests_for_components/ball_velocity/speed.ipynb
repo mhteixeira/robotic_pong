{
 "cells": [
  {
   "cell_type": "code",
   "execution_count": 1,
   "metadata": {},
   "outputs": [],
   "source": [
    "import cv2\n",
    "import matplotlib.pyplot as plt\n",
    "import numpy as np"
   ]
  },
  {
   "cell_type": "code",
   "execution_count": 2,
   "metadata": {},
   "outputs": [],
   "source": [
    "\n",
    "def detect_ball(frame, output_frame):\n",
    "    # First we blur the image with a GaussianBlur\n",
    "    blurred = cv2.GaussianBlur(frame, (11, 11), 0)\n",
    "    \n",
    "    # Construct a HSV mask for the green color\n",
    "    hsv = cv2.cvtColor(blurred, cv2.COLOR_BGR2HSV)\n",
    "    mask = cv2.inRange(hsv, greenLower, greenUpper)\n",
    "\n",
    "    # Erode and dilate the result to remove small noises\n",
    "    mask = cv2.erode(mask, None, iterations=4)\n",
    "    mask = cv2.dilate(mask, None, iterations=4)\n",
    "    \n",
    "    # Then we calculate the countours of the resulting image\n",
    "    frame_cnts, _ = cv2.findContours(mask, cv2.RETR_TREE, cv2.CHAIN_APPROX_SIMPLE)\n",
    "    # cv2.drawContours(output_frame, frame_cnts, -1, (0,0,255), 2)\n",
    "    if len(frame_cnts) == 0:\n",
    "        return False, output_frame, [], -1, -1, -1\n",
    "\n",
    "    # Calculate the circularity of the identified countours\n",
    "    areas = np.array([cv2.contourArea(c) for c in frame_cnts])\n",
    "    is_reading_valid = (areas > minimum_ball_area)\n",
    "\n",
    "    if np.sum(is_reading_valid) == 0:\n",
    "        return False, output_frame, [], -1, -1, -1\n",
    "\n",
    "    perimeters = np.array([cv2.arcLength(c,True) for c in frame_cnts])\n",
    "\n",
    "    circularities = 4 * np.pi *areas/(perimeters**2)\n",
    "    circularities = circularities*is_reading_valid\n",
    "    ball_cnt_idx = np.argmax(circularities)\n",
    "    # We get the one with the greatest circularity (4*pi*area/(perimeter^2))\n",
    "    # https://www.mathworks.com/help/images/identifying-round-objects.html;jsessionid=551254009a8e1c007e415ab76902\n",
    "    c = frame_cnts[ball_cnt_idx]\n",
    "    # And calculate the minimum enclosing circle\n",
    "    ((x, y), radius) = cv2.minEnclosingCircle(c)\n",
    "    M = cv2.moments(c)\n",
    "    \n",
    "    # Calculate the shape\n",
    "    approx = cv2.approxPolyDP(c,0.01*cv2.arcLength(c,True),True)\n",
    "\n",
    "    # If the shape is really close to a circle and the area is greater than the minimum\n",
    "    # the contour is considered to be the ball\n",
    "    if (len(approx) > 6) & (len(approx) < 23):\n",
    "        center = (int(M[\"m10\"] / M[\"m00\"]), int(M[\"m01\"] / M[\"m00\"]))\n",
    "        cv2.circle(output_frame, (int(x), int(y)), int(radius), (0, 255, 0), 2)\n",
    "\n",
    "        return True, output_frame, frame_cnts, x, y, radius\n",
    "    return False, output_frame, [], -1, -1, -1\n"
   ]
  },
  {
   "cell_type": "code",
   "execution_count": 23,
   "metadata": {},
   "outputs": [
    {
     "ename": "SyntaxError",
     "evalue": "(unicode error) 'unicodeescape' codec can't decode bytes in position 2-3: truncated \\UXXXXXXXX escape (3674203199.py, line 1)",
     "output_type": "error",
     "traceback": [
      "\u001b[1;36m  Cell \u001b[1;32mIn[23], line 1\u001b[1;36m\u001b[0m\n\u001b[1;33m    path = \"C:\\Users\\Murillo\\repositories\\robotic_pong\\speed.png\"\u001b[0m\n\u001b[1;37m           ^\u001b[0m\n\u001b[1;31mSyntaxError\u001b[0m\u001b[1;31m:\u001b[0m (unicode error) 'unicodeescape' codec can't decode bytes in position 2-3: truncated \\UXXXXXXXX escape\n"
     ]
    }
   ],
   "source": [
    "path = \"C:\\Users\\Murillo\\repositories\\robotic_pong\\speed.png\"\n",
    "image = cv2.imread(path)\n",
    "print(image)"
   ]
  }
 ],
 "metadata": {
  "kernelspec": {
   "display_name": "venv",
   "language": "python",
   "name": "python3"
  },
  "language_info": {
   "codemirror_mode": {
    "name": "ipython",
    "version": 3
   },
   "file_extension": ".py",
   "mimetype": "text/x-python",
   "name": "python",
   "nbconvert_exporter": "python",
   "pygments_lexer": "ipython3",
   "version": "3.8.10"
  },
  "orig_nbformat": 4
 },
 "nbformat": 4,
 "nbformat_minor": 2
}
