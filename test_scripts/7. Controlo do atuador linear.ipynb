{
 "cells": [
  {
   "cell_type": "markdown",
   "metadata": {},
   "source": [
    "# PIP-PRoS: Controlo do atuador linear\n",
    "\n",
    "Neste notebook serão introduzidos a classe criada para o controle do Stepper Motor utilizado no atuador linear e os métodos para o seu controlo.\n",
    "\n",
    "Para mais informações, acesse [o site do projeto](https://sites.google.com/tecnico.ulisboa.pt/pip-pros/)!"
   ]
  },
  {
   "cell_type": "markdown",
   "metadata": {},
   "source": [
    "## Bibliotecas utilizadas\n",
    "\n",
    "Como o controlo do atuador se dá via Serial por meio de um Arduino, será utilizada a biblioteca `serial`.\n",
    "\n",
    "A biblioteca `time` será usada para introduzir delays após a chamada de certas funções."
   ]
  },
  {
   "cell_type": "code",
   "execution_count": 23,
   "metadata": {},
   "outputs": [],
   "source": [
    "import serial \n",
    "import time"
   ]
  },
  {
   "cell_type": "markdown",
   "metadata": {},
   "source": [
    "## Introdução ao sistema desenvolvido\n",
    "\n",
    "Como descrito no manual do projeto, que pode ser encontrado no website, foi criado um protocolo para a comunicação via serial com o Arduino. O Arduino interpreta os comandos e gera os sinais necessários para que o driver do motor o controle.\n",
    "\n",
    "Para facilitar o uso da interface, foi criada a classe `SerialStepperMotor` que será explicada em sequência."
   ]
  },
  {
   "cell_type": "markdown",
   "metadata": {},
   "source": [
    "## Classe `SerialStepperMotor`"
   ]
  },
  {
   "cell_type": "code",
   "execution_count": null,
   "metadata": {},
   "outputs": [],
   "source": [
    "class SerialStepperMotor:\n",
    "    def __init__(self, port, baudrate):\n",
    "        self.port = port\n",
    "        self.baudrate = baudrate\n",
    "        self.serial_connection = serial.Serial(self.port, self.baudrate, timeout=1)\n",
    "        time.sleep(1)\n",
    "\n",
    "    def is_connected(self):\n",
    "        self.serial_connection.write(bytearray(\"c 200\", 'ascii'))\n",
    "        for _ in range(10):\n",
    "            answer = self.serial_connection.readline()\n",
    "            if answer[0:3] == b'200':\n",
    "                return True\n",
    "            time.sleep(0.5)\n",
    "        else:\n",
    "            return False\n",
    "    \n",
    "    def calibrate(self):\n",
    "        print(\"Starting calibration...\")\n",
    "        self.serial_connection.write(bytearray(\"i\", 'ascii'))\n",
    "        calibration_finished = False\n",
    "        while not calibration_finished:\n",
    "            answer = self.serial_connection.readline()\n",
    "            if answer[0:3] == b'201':\n",
    "                calibration_finished = True\n",
    "        print(\"Calibrated...\")\n",
    "\n",
    "    def close(self):\n",
    "        self.serial_connection.close()\n",
    "\n",
    "    def move_to(self, position_percentage):\n",
    "        \"\"\"\n",
    "        Receives position in percentage and moves the motor \n",
    "        to the equivalent percentage of its full trajectory.\n",
    "        \"\"\"\n",
    "        self.serial_connection.write(bytearray(\"m \" + str(position_percentage) +\" \\n\", 'ascii'))\n",
    "        print(\"Sent: m \" + str(position_percentage))\n",
    "\n",
    "    def stop(self):\n",
    "        self.serial_connection.write(bytearray(\"p \\n\", 'ascii'))\n",
    "        print(\"Sent: p\")"
   ]
  },
  {
   "cell_type": "markdown",
   "metadata": {},
   "source": [
    "A classe dispõe apenas dos métodos essenciais para realizar a interface entre o Arduino e o programa `main` em python. O protocolo como implementado no arquivo `linear_actuator_controller` é mais compreensivo, com comandos de ``set`` e ``get`` da velocidade e aceleração do atuador, que podem ser usados via Monitor Serial. \n",
    "\n",
    "A instanciação de um objeto da classe SerialStepperMotor realiza a conexão com o sistema do atuador linear:"
   ]
  },
  {
   "cell_type": "code",
   "execution_count": null,
   "metadata": {},
   "outputs": [],
   "source": [
    "motor = SerialStepperMotor(\"COM8\", 115200)"
   ]
  },
  {
   "cell_type": "markdown",
   "metadata": {},
   "source": [
    "## Verificação do status da conexão"
   ]
  },
  {
   "cell_type": "markdown",
   "metadata": {},
   "source": [
    "A estratégia utilizada para verificar a validade da conexão é simples: é enviado via Serial uma mensagem para o controlador, quando esse o recebe envia a mensagem de volta. Caso o computador receba essa mensagem, a conexão é considerada válida. Para verificar o status da conexão basta usar o método ``motor.is_connected()``."
   ]
  },
  {
   "cell_type": "code",
   "execution_count": null,
   "metadata": {},
   "outputs": [],
   "source": [
    "print(motor.is_connected())"
   ]
  },
  {
   "cell_type": "markdown",
   "metadata": {},
   "source": [
    "## Calibração do motor\n",
    "\n",
    "No estado atual, o sistema não conhece a posição do sistema de bloqueio da bola. A estratégia escolhida para conhecer sua posição, assim como é comumente feito para sistemas de impressoras 3D, foi o uso de fins-de-curso. Os fins-de-curso são apenas switches localizados nas extremidades do perfil acionados com o movimento do sistema de bloqueio da bola.\n",
    "\n",
    "É importante notar, antes, como um StepperMotor lida com posições. A posição de um motor de passos para a biblioteca de controle usada (AccelStepper) é calculada como a quantidade de passos desde a conexão com o motor. Ou seja, a posição 0 é a posição inicial do motor, 2000 seria a posição a 2000 passos para um lado e -2000 seria a posição para o outro lado.\n",
    "\n",
    "Assim, para fazer a calibração, o motor é movimentado a velocidades baixas na direção de um dos fins-de-curso até este ser acionado. Quando é, guarda a posição atual como o primeiro limite e inverte sua velocidade, dirigindo o sistema ao outro switch. Quando o atinge, ambos os limites do campo são conhecidos e é possível enviar o motor para a posição correspondente ao meio do campo ((upper_limit - lower_limit)/2).\n",
    "\n",
    "Esse processo pode ser realizado por meio do método ``motor.calibrate()``:"
   ]
  },
  {
   "cell_type": "code",
   "execution_count": null,
   "metadata": {},
   "outputs": [],
   "source": [
    "motor.calibrate()"
   ]
  },
  {
   "cell_type": "markdown",
   "metadata": {},
   "source": [
    "## Movimentação do sistema de bloqueio ao longo do campo"
   ]
  },
  {
   "cell_type": "markdown",
   "metadata": {},
   "source": [
    "Para movimentar o robô basta indicar em qual ponto da trajetória completa (0.0 - 1.0) o robô deve estar, sendo 0 o limite inferior (na visão da câmera) e 1 o limite superior. Para posicioná-lo a X% da trajetória, basta enviar X/100:"
   ]
  },
  {
   "cell_type": "code",
   "execution_count": null,
   "metadata": {},
   "outputs": [],
   "source": [
    "# Envia para o limite inferior\n",
    "motor.move_to(0)\n",
    "time.sleep(1)\n",
    "\n",
    "# Envia para o limite superior\n",
    "motor.move_to(1)\n",
    "time.sleep(1)\n",
    "\n",
    "# Envia para o meio do campo\n",
    "motor.move_to(0.5)\n",
    "time.sleep(1)\n",
    "\n",
    "# Envia para o quarto superior da trajetória\n",
    "motor.move_to(0.75)\n",
    "time.sleep(1)"
   ]
  },
  {
   "cell_type": "markdown",
   "metadata": {},
   "source": [
    "## Interrupção do movimento\n",
    "\n",
    "Na situação em que o setpoint é atualizado durante o movimento do motor, é interessante contar com a possibilidade de parar o seu movimento e iniciar um outro. Para isso foi implementado o método ``motor.stop()``, de uso simples:"
   ]
  },
  {
   "cell_type": "code",
   "execution_count": null,
   "metadata": {},
   "outputs": [],
   "source": [
    "# Envia o motor para o limite sueprior\n",
    "motor.move_to(1)\n",
    "time.sleep(1)\n",
    "\n",
    "# Tenta enviar para o limite inferior, mas o movimento é interrompido\n",
    "motor.move_to(0)\n",
    "time.sleep(0.01)\n",
    "motor.stop()"
   ]
  },
  {
   "cell_type": "markdown",
   "metadata": {},
   "source": [
    "## Fechar a conexão com o sistema\n",
    "\n",
    "Por último, é sempre necessário, ao fim do programa, desconectar o sistema:"
   ]
  },
  {
   "cell_type": "code",
   "execution_count": null,
   "metadata": {},
   "outputs": [],
   "source": [
    "motor.close()"
   ]
  }
 ],
 "metadata": {
  "kernelspec": {
   "display_name": "venv",
   "language": "python",
   "name": "python3"
  },
  "language_info": {
   "codemirror_mode": {
    "name": "ipython",
    "version": 3
   },
   "file_extension": ".py",
   "mimetype": "text/x-python",
   "name": "python",
   "nbconvert_exporter": "python",
   "pygments_lexer": "ipython3",
   "version": "3.8.10"
  },
  "orig_nbformat": 4
 },
 "nbformat": 4,
 "nbformat_minor": 2
}
