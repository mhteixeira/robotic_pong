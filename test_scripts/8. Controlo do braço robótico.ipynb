{
 "cells": [
  {
   "cell_type": "markdown",
   "metadata": {},
   "source": [
    "# PIP-PRoS: Controlo do braço robótico\n",
    "\n",
    "Neste notebook serão introduzidos os métodos usados para o controlo do braço robótico. Todos os métodos aqui apresentados fazem parte da biblioteca pyniryo2, cuja documentação pode ser acessada por [aqui](https://docs.niryo.com/dev/pyniryo2/v1.0.0/en/index.html).\n",
    "\n",
    "Para mais informações, acesse [o site do projeto](https://sites.google.com/tecnico.ulisboa.pt/pip-pros/)!"
   ]
  },
  {
   "cell_type": "markdown",
   "metadata": {},
   "source": [
    "## Bibliotecas utilizadas\n",
    "\n",
    "Como comentado, a única biblioteca necessária para controlar o braço robótico é a ```PyNiryo2```, que deve ser importada como apresentado abaixo. \n",
    "\n",
    "A biblioteca ```time``` será usada para introduzir delays após a chamada de certas funções."
   ]
  },
  {
   "cell_type": "code",
   "execution_count": 23,
   "metadata": {},
   "outputs": [],
   "source": [
    "from pyniryo2 import *\n",
    "import time"
   ]
  },
  {
   "cell_type": "markdown",
   "metadata": {},
   "source": [
    "## Configuração do braço robótico\n",
    "\n",
    "A primeira etapa para o uso do robot é abrir a conexão e instanciar um objeto da classe NiryoRobot. Existem várias formas de conectar o braço, por simplicidade abaixo usamos a conexão via Ethernet, mas também é possível conectar o braço na mesma rede do computador que será usado para o controle via Wi-Fi."
   ]
  },
  {
   "cell_type": "code",
   "execution_count": null,
   "metadata": {},
   "outputs": [],
   "source": [
    "robot = NiryoRobot(\"169.254.200.200\")"
   ]
  },
  {
   "cell_type": "markdown",
   "metadata": {},
   "source": [
    "Em seguida é necessário realizar a calibração do braço. Este método deve ser chamado sempre após a conexão com o braço robótico."
   ]
  },
  {
   "cell_type": "code",
   "execution_count": null,
   "metadata": {},
   "outputs": [],
   "source": [
    "robot.arm.calibrate_auto()"
   ]
  },
  {
   "cell_type": "markdown",
   "metadata": {},
   "source": [
    "O próximo passo é atribuir a velocidade de operação do braço. Isso pode ser feito por meio do método ```robot.arm.set_arm_max_velocity(percentage_speed)```. No entanto na implementação atual da biblioteca não são permitidos valores para ```percentage_speed``` que ultrapassam 100, o que torna necessária uma implementação alternativa deste método como a encontrada abaixo."
   ]
  },
  {
   "cell_type": "code",
   "execution_count": null,
   "metadata": {},
   "outputs": [],
   "source": [
    "def custom_set_arm_max_velocity(arm, percentage_speed):\n",
    "    arm._check_range_belonging(percentage_speed, 1, 200)\n",
    "    req = arm._services.get_max_velocity_scaling_factor_request(percentage_speed)\n",
    "    resp = arm._services.set_max_velocity_scaling_factor_service.call(req)\n",
    "    arm._check_result_status(resp)\n",
    "\n",
    "custom_set_arm_max_velocity(robot.arm, 200)"
   ]
  },
  {
   "cell_type": "markdown",
   "metadata": {},
   "source": [
    "## Movimentação do braço robótico\n",
    "\n",
    "Os dois métodos principais usados para realizar o controle de posição do braço robótico são: ```robot.arm.stop_move()``` e ```robot.arm.move_linear_pose(pose)```. \n",
    "\n",
    "O primeiro é responsável por interromper o movimento atual do braço, e é usado antes de trocar o setpoint que o braço segue enquanto ele ainda se move. Para que o método funcione é importante incluir um ```time.sleep(0.01)``` após sua chamada."
   ]
  },
  {
   "cell_type": "code",
   "execution_count": null,
   "metadata": {},
   "outputs": [],
   "source": [
    "robot.arm.stop_move()\n",
    "time.sleep(0.01)"
   ]
  },
  {
   "cell_type": "markdown",
   "metadata": {},
   "source": [
    "O segundo método é responsável por mudar, por meio de um movimento linear, a pose atual do robô definida por um vetor [x, y, z, roll, pitch, yaw].\n",
    "\n",
    "Devido a um erro na biblioteca da Niryo, não é possível usar esse método de forma _non-blocking_, ou seja, caso seja chamado o programa espera que o movimento seja finalizado para passar para a próxima linha. Isso é um problema para o programa como foi concebido, já que idealmente devemos contar com uma captura contínua de frames e interromper o programa durante o movimento do braço impediria que isso acontecesse.\n",
    "\n",
    "Para solucionar esse problema, assim como no caso do ```robot.arm.set_arm_max_velocity```, foi criada uma implementação alternativa do método, como vista abaixo:"
   ]
  },
  {
   "cell_type": "code",
   "execution_count": null,
   "metadata": {},
   "outputs": [],
   "source": [
    "def non_blocking_move_linear_position(arm, pose, callback=None):\n",
    "    arm._actions.get_move_linear_pose_goal(pose).send(result_callback=callback)"
   ]
  },
  {
   "cell_type": "markdown",
   "metadata": {},
   "source": [
    "Dessa forma é possível movimentar o braço de forma ```non-blocking``` até uma pose conhecida, como abaixo:"
   ]
  },
  {
   "cell_type": "code",
   "execution_count": null,
   "metadata": {},
   "outputs": [],
   "source": [
    "aruco_0_pose = np.array([0.14, 0.28, 0.09, 0.0, 1.57, 0.0])\n",
    "non_blocking_move_linear_position(robot.arm, aruco_0_pose)"
   ]
  }
 ],
 "metadata": {
  "kernelspec": {
   "display_name": "venv",
   "language": "python",
   "name": "python3"
  },
  "language_info": {
   "codemirror_mode": {
    "name": "ipython",
    "version": 3
   },
   "file_extension": ".py",
   "mimetype": "text/x-python",
   "name": "python",
   "nbconvert_exporter": "python",
   "pygments_lexer": "ipython3",
   "version": "3.8.10"
  },
  "orig_nbformat": 4
 },
 "nbformat": 4,
 "nbformat_minor": 2
}
